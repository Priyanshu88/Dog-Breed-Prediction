{
  "cells": [
    {
      "cell_type": "markdown",
      "metadata": {
        "id": "view-in-github",
        "colab_type": "text"
      },
      "source": [
        "<a href=\"https://colab.research.google.com/github/Priyanshu88/Dog-Breed-Prediction/blob/main/Dog_Breed_Prediction.ipynb\" target=\"_parent\"><img src=\"https://colab.research.google.com/assets/colab-badge.svg\" alt=\"Open In Colab\"/></a>"
      ]
    },
    {
      "cell_type": "code",
      "execution_count": 1,
      "metadata": {
        "colab": {
          "base_uri": "https://localhost:8080/",
          "height": 93
        },
        "id": "zEre102rbur9",
        "outputId": "10987715-1c5d-41bb-b97e-bf7439d45a53"
      },
      "outputs": [
        {
          "output_type": "display_data",
          "data": {
            "text/plain": [
              "<IPython.core.display.HTML object>"
            ],
            "text/html": [
              "\n",
              "     <input type=\"file\" id=\"files-5016bae7-1f25-470f-b811-ca265bd02a88\" name=\"files[]\" multiple disabled\n",
              "        style=\"border:none\" />\n",
              "     <output id=\"result-5016bae7-1f25-470f-b811-ca265bd02a88\">\n",
              "      Upload widget is only available when the cell has been executed in the\n",
              "      current browser session. Please rerun this cell to enable.\n",
              "      </output>\n",
              "      <script>// Copyright 2017 Google LLC\n",
              "//\n",
              "// Licensed under the Apache License, Version 2.0 (the \"License\");\n",
              "// you may not use this file except in compliance with the License.\n",
              "// You may obtain a copy of the License at\n",
              "//\n",
              "//      http://www.apache.org/licenses/LICENSE-2.0\n",
              "//\n",
              "// Unless required by applicable law or agreed to in writing, software\n",
              "// distributed under the License is distributed on an \"AS IS\" BASIS,\n",
              "// WITHOUT WARRANTIES OR CONDITIONS OF ANY KIND, either express or implied.\n",
              "// See the License for the specific language governing permissions and\n",
              "// limitations under the License.\n",
              "\n",
              "/**\n",
              " * @fileoverview Helpers for google.colab Python module.\n",
              " */\n",
              "(function(scope) {\n",
              "function span(text, styleAttributes = {}) {\n",
              "  const element = document.createElement('span');\n",
              "  element.textContent = text;\n",
              "  for (const key of Object.keys(styleAttributes)) {\n",
              "    element.style[key] = styleAttributes[key];\n",
              "  }\n",
              "  return element;\n",
              "}\n",
              "\n",
              "// Max number of bytes which will be uploaded at a time.\n",
              "const MAX_PAYLOAD_SIZE = 100 * 1024;\n",
              "\n",
              "function _uploadFiles(inputId, outputId) {\n",
              "  const steps = uploadFilesStep(inputId, outputId);\n",
              "  const outputElement = document.getElementById(outputId);\n",
              "  // Cache steps on the outputElement to make it available for the next call\n",
              "  // to uploadFilesContinue from Python.\n",
              "  outputElement.steps = steps;\n",
              "\n",
              "  return _uploadFilesContinue(outputId);\n",
              "}\n",
              "\n",
              "// This is roughly an async generator (not supported in the browser yet),\n",
              "// where there are multiple asynchronous steps and the Python side is going\n",
              "// to poll for completion of each step.\n",
              "// This uses a Promise to block the python side on completion of each step,\n",
              "// then passes the result of the previous step as the input to the next step.\n",
              "function _uploadFilesContinue(outputId) {\n",
              "  const outputElement = document.getElementById(outputId);\n",
              "  const steps = outputElement.steps;\n",
              "\n",
              "  const next = steps.next(outputElement.lastPromiseValue);\n",
              "  return Promise.resolve(next.value.promise).then((value) => {\n",
              "    // Cache the last promise value to make it available to the next\n",
              "    // step of the generator.\n",
              "    outputElement.lastPromiseValue = value;\n",
              "    return next.value.response;\n",
              "  });\n",
              "}\n",
              "\n",
              "/**\n",
              " * Generator function which is called between each async step of the upload\n",
              " * process.\n",
              " * @param {string} inputId Element ID of the input file picker element.\n",
              " * @param {string} outputId Element ID of the output display.\n",
              " * @return {!Iterable<!Object>} Iterable of next steps.\n",
              " */\n",
              "function* uploadFilesStep(inputId, outputId) {\n",
              "  const inputElement = document.getElementById(inputId);\n",
              "  inputElement.disabled = false;\n",
              "\n",
              "  const outputElement = document.getElementById(outputId);\n",
              "  outputElement.innerHTML = '';\n",
              "\n",
              "  const pickedPromise = new Promise((resolve) => {\n",
              "    inputElement.addEventListener('change', (e) => {\n",
              "      resolve(e.target.files);\n",
              "    });\n",
              "  });\n",
              "\n",
              "  const cancel = document.createElement('button');\n",
              "  inputElement.parentElement.appendChild(cancel);\n",
              "  cancel.textContent = 'Cancel upload';\n",
              "  const cancelPromise = new Promise((resolve) => {\n",
              "    cancel.onclick = () => {\n",
              "      resolve(null);\n",
              "    };\n",
              "  });\n",
              "\n",
              "  // Wait for the user to pick the files.\n",
              "  const files = yield {\n",
              "    promise: Promise.race([pickedPromise, cancelPromise]),\n",
              "    response: {\n",
              "      action: 'starting',\n",
              "    }\n",
              "  };\n",
              "\n",
              "  cancel.remove();\n",
              "\n",
              "  // Disable the input element since further picks are not allowed.\n",
              "  inputElement.disabled = true;\n",
              "\n",
              "  if (!files) {\n",
              "    return {\n",
              "      response: {\n",
              "        action: 'complete',\n",
              "      }\n",
              "    };\n",
              "  }\n",
              "\n",
              "  for (const file of files) {\n",
              "    const li = document.createElement('li');\n",
              "    li.append(span(file.name, {fontWeight: 'bold'}));\n",
              "    li.append(span(\n",
              "        `(${file.type || 'n/a'}) - ${file.size} bytes, ` +\n",
              "        `last modified: ${\n",
              "            file.lastModifiedDate ? file.lastModifiedDate.toLocaleDateString() :\n",
              "                                    'n/a'} - `));\n",
              "    const percent = span('0% done');\n",
              "    li.appendChild(percent);\n",
              "\n",
              "    outputElement.appendChild(li);\n",
              "\n",
              "    const fileDataPromise = new Promise((resolve) => {\n",
              "      const reader = new FileReader();\n",
              "      reader.onload = (e) => {\n",
              "        resolve(e.target.result);\n",
              "      };\n",
              "      reader.readAsArrayBuffer(file);\n",
              "    });\n",
              "    // Wait for the data to be ready.\n",
              "    let fileData = yield {\n",
              "      promise: fileDataPromise,\n",
              "      response: {\n",
              "        action: 'continue',\n",
              "      }\n",
              "    };\n",
              "\n",
              "    // Use a chunked sending to avoid message size limits. See b/62115660.\n",
              "    let position = 0;\n",
              "    do {\n",
              "      const length = Math.min(fileData.byteLength - position, MAX_PAYLOAD_SIZE);\n",
              "      const chunk = new Uint8Array(fileData, position, length);\n",
              "      position += length;\n",
              "\n",
              "      const base64 = btoa(String.fromCharCode.apply(null, chunk));\n",
              "      yield {\n",
              "        response: {\n",
              "          action: 'append',\n",
              "          file: file.name,\n",
              "          data: base64,\n",
              "        },\n",
              "      };\n",
              "\n",
              "      let percentDone = fileData.byteLength === 0 ?\n",
              "          100 :\n",
              "          Math.round((position / fileData.byteLength) * 100);\n",
              "      percent.textContent = `${percentDone}% done`;\n",
              "\n",
              "    } while (position < fileData.byteLength);\n",
              "  }\n",
              "\n",
              "  // All done.\n",
              "  yield {\n",
              "    response: {\n",
              "      action: 'complete',\n",
              "    }\n",
              "  };\n",
              "}\n",
              "\n",
              "scope.google = scope.google || {};\n",
              "scope.google.colab = scope.google.colab || {};\n",
              "scope.google.colab._files = {\n",
              "  _uploadFiles,\n",
              "  _uploadFilesContinue,\n",
              "};\n",
              "})(self);\n",
              "</script> "
            ]
          },
          "metadata": {}
        },
        {
          "output_type": "stream",
          "name": "stdout",
          "text": [
            "Saving kaggle.json to kaggle (1).json\n"
          ]
        },
        {
          "output_type": "execute_result",
          "data": {
            "text/plain": [
              "{'kaggle.json': b'{\"username\":\"priyanshu00\",\"key\":\"226e1fcdae0d1b413b2455ffbc0c3037\"}'}"
            ]
          },
          "metadata": {},
          "execution_count": 1
        }
      ],
      "source": [
        "# Select the kaggle.json file downloaded\n",
        "# from the Kaggle account settings page.\n",
        "\n",
        "from google.colab import files\n",
        "files.upload()"
      ]
    },
    {
      "cell_type": "code",
      "execution_count": 2,
      "metadata": {
        "id": "dsiLylSZdPxH"
      },
      "outputs": [],
      "source": [
        "# Next, install the Kaggle API client.\n",
        "\n",
        "!pip install -q kaggle"
      ]
    },
    {
      "cell_type": "code",
      "execution_count": 3,
      "metadata": {
        "id": "2yi_TaSYdqcy"
      },
      "outputs": [],
      "source": [
        "# The Kaggle API client expects this file to be in ~/.kaggle, so move it there.\n",
        "\n",
        "!mkdir -p ~/.kaggle\n",
        "!cp kaggle.json ~/.kaggle/\n",
        "\n",
        "# This permissions change avoids a warning on Kaggle tool startup.\n",
        "!chmod 600 ~/.kaggle/kaggle.json"
      ]
    },
    {
      "cell_type": "code",
      "execution_count": 4,
      "metadata": {
        "colab": {
          "base_uri": "https://localhost:8080/"
        },
        "id": "qJtaaU__enla",
        "outputId": "ee3cf102-b0e6-4eeb-89ac-39ba2314c51b"
      },
      "outputs": [
        {
          "output_type": "stream",
          "name": "stdout",
          "text": [
            "mkdir: cannot create directory ‘dog_dataset’: File exists\n",
            "/content/dog_dataset\n"
          ]
        }
      ],
      "source": [
        "# Creating directory and changing the current working directory\n",
        "\n",
        "!mkdir dog_dataset\n",
        "%cd dog_dataset"
      ]
    },
    {
      "cell_type": "code",
      "execution_count": 5,
      "metadata": {
        "colab": {
          "base_uri": "https://localhost:8080/"
        },
        "id": "GhOwCdLyew7E",
        "outputId": "87b46399-41f3-46c5-ad3e-03fca743898d"
      },
      "outputs": [
        {
          "output_type": "stream",
          "name": "stdout",
          "text": [
            "ref                                title                    size  lastUpdated          downloadCount  voteCount  usabilityRating  \n",
            "---------------------------------  ----------------------  -----  -------------------  -------------  ---------  ---------------  \n",
            "catherinehorng/dogbreedidfromcomp  dog-breed-id-from-comp  691MB  2020-06-26 03:09:05           1831          6  0.1764706        \n"
          ]
        }
      ],
      "source": [
        "# Searching for dataset\n",
        "!kaggle datasets list -s dogbreedidfromcomp"
      ]
    },
    {
      "cell_type": "code",
      "execution_count": 6,
      "metadata": {
        "colab": {
          "base_uri": "https://localhost:8080/"
        },
        "id": "MH5DAzMze50U",
        "outputId": "9dbe801a-e910-4257-f7a5-5b41bbdfc66b"
      },
      "outputs": [
        {
          "output_type": "stream",
          "name": "stdout",
          "text": [
            "Downloading dogbreedidfromcomp.zip to /content/dog_dataset\n",
            "100% 690M/691M [00:03<00:00, 178MB/s]\n",
            "100% 691M/691M [00:03<00:00, 191MB/s]\n",
            "/content\n"
          ]
        }
      ],
      "source": [
        "# Downloading dataset and coming out of directory\n",
        "\n",
        "!kaggle datasets download catherinehorng/dogbreedidfromcomp\n",
        "%cd .."
      ]
    },
    {
      "cell_type": "code",
      "execution_count": 7,
      "metadata": {
        "colab": {
          "base_uri": "https://localhost:8080/"
        },
        "id": "j9GZEDkQfEat",
        "outputId": "f454b317-bdb4-465b-b6c1-76260ea39de6"
      },
      "outputs": [
        {
          "output_type": "stream",
          "name": "stdout",
          "text": [
            "Archive:  dog_dataset/dogbreedidfromcomp.zip\n",
            "replace dog_dataset/labels.csv? [y]es, [n]o, [A]ll, [N]one, [r]ename: N\n",
            "  inflating: dog_dataset/sample_submission.csv  \n"
          ]
        }
      ],
      "source": [
        "# Unzipping downloaded file and removing unusable file\n",
        "\n",
        "!unzip dog_dataset/dogbreedidfromcomp.zip -d dog_dataset\n",
        "!rm dog_dataset/dogbreedidfromcomp.zip\n",
        "!rm dog_dataset/sample_submission.csv"
      ]
    },
    {
      "cell_type": "code",
      "execution_count": 8,
      "metadata": {
        "id": "gFM02stCfesi"
      },
      "outputs": [],
      "source": [
        "# Important library imports\n",
        "\n",
        "import numpy as np\n",
        "import pandas as pd\n",
        "import matplotlib.pyplot as plt\n",
        "\n",
        "from tqdm import tqdm\n",
        "from keras.preprocessing import image\n",
        "from sklearn.preprocessing import label_binarize\n",
        "from sklearn.model_selection import train_test_split\n",
        "from keras.models import Sequential\n",
        "from keras.layers import Dense, Dropout, Flatten, Conv2D, MaxPool2D\n",
        "from tensorflow.keras.optimizers import Adam"
      ]
    },
    {
      "cell_type": "code",
      "execution_count": 9,
      "metadata": {
        "id": "DQ--nl2zgLWz",
        "colab": {
          "base_uri": "https://localhost:8080/",
          "height": 225
        },
        "outputId": "997a6d80-5a3f-4829-cd5a-848771eff93c"
      },
      "outputs": [
        {
          "output_type": "stream",
          "name": "stdout",
          "text": [
            "(10222, 2)\n"
          ]
        },
        {
          "output_type": "execute_result",
          "data": {
            "text/plain": [
              "                                 id             breed\n",
              "0  000bec180eb18c7604dcecc8fe0dba07       boston_bull\n",
              "1  001513dfcb2ffafc82cccf4d8bbaba97             dingo\n",
              "2  001cdf01b096e06d78e9e5112d419397          pekinese\n",
              "3  00214f311d5d2247d5dfe4fe24b2303d          bluetick\n",
              "4  0021f9ceb3235effd7fcde7f7538ed62  golden_retriever"
            ],
            "text/html": [
              "\n",
              "  <div id=\"df-1a8bb6a4-6a28-47a0-b98d-191a08a39193\">\n",
              "    <div class=\"colab-df-container\">\n",
              "      <div>\n",
              "<style scoped>\n",
              "    .dataframe tbody tr th:only-of-type {\n",
              "        vertical-align: middle;\n",
              "    }\n",
              "\n",
              "    .dataframe tbody tr th {\n",
              "        vertical-align: top;\n",
              "    }\n",
              "\n",
              "    .dataframe thead th {\n",
              "        text-align: right;\n",
              "    }\n",
              "</style>\n",
              "<table border=\"1\" class=\"dataframe\">\n",
              "  <thead>\n",
              "    <tr style=\"text-align: right;\">\n",
              "      <th></th>\n",
              "      <th>id</th>\n",
              "      <th>breed</th>\n",
              "    </tr>\n",
              "  </thead>\n",
              "  <tbody>\n",
              "    <tr>\n",
              "      <th>0</th>\n",
              "      <td>000bec180eb18c7604dcecc8fe0dba07</td>\n",
              "      <td>boston_bull</td>\n",
              "    </tr>\n",
              "    <tr>\n",
              "      <th>1</th>\n",
              "      <td>001513dfcb2ffafc82cccf4d8bbaba97</td>\n",
              "      <td>dingo</td>\n",
              "    </tr>\n",
              "    <tr>\n",
              "      <th>2</th>\n",
              "      <td>001cdf01b096e06d78e9e5112d419397</td>\n",
              "      <td>pekinese</td>\n",
              "    </tr>\n",
              "    <tr>\n",
              "      <th>3</th>\n",
              "      <td>00214f311d5d2247d5dfe4fe24b2303d</td>\n",
              "      <td>bluetick</td>\n",
              "    </tr>\n",
              "    <tr>\n",
              "      <th>4</th>\n",
              "      <td>0021f9ceb3235effd7fcde7f7538ed62</td>\n",
              "      <td>golden_retriever</td>\n",
              "    </tr>\n",
              "  </tbody>\n",
              "</table>\n",
              "</div>\n",
              "      <button class=\"colab-df-convert\" onclick=\"convertToInteractive('df-1a8bb6a4-6a28-47a0-b98d-191a08a39193')\"\n",
              "              title=\"Convert this dataframe to an interactive table.\"\n",
              "              style=\"display:none;\">\n",
              "        \n",
              "  <svg xmlns=\"http://www.w3.org/2000/svg\" height=\"24px\"viewBox=\"0 0 24 24\"\n",
              "       width=\"24px\">\n",
              "    <path d=\"M0 0h24v24H0V0z\" fill=\"none\"/>\n",
              "    <path d=\"M18.56 5.44l.94 2.06.94-2.06 2.06-.94-2.06-.94-.94-2.06-.94 2.06-2.06.94zm-11 1L8.5 8.5l.94-2.06 2.06-.94-2.06-.94L8.5 2.5l-.94 2.06-2.06.94zm10 10l.94 2.06.94-2.06 2.06-.94-2.06-.94-.94-2.06-.94 2.06-2.06.94z\"/><path d=\"M17.41 7.96l-1.37-1.37c-.4-.4-.92-.59-1.43-.59-.52 0-1.04.2-1.43.59L10.3 9.45l-7.72 7.72c-.78.78-.78 2.05 0 2.83L4 21.41c.39.39.9.59 1.41.59.51 0 1.02-.2 1.41-.59l7.78-7.78 2.81-2.81c.8-.78.8-2.07 0-2.86zM5.41 20L4 18.59l7.72-7.72 1.47 1.35L5.41 20z\"/>\n",
              "  </svg>\n",
              "      </button>\n",
              "      \n",
              "  <style>\n",
              "    .colab-df-container {\n",
              "      display:flex;\n",
              "      flex-wrap:wrap;\n",
              "      gap: 12px;\n",
              "    }\n",
              "\n",
              "    .colab-df-convert {\n",
              "      background-color: #E8F0FE;\n",
              "      border: none;\n",
              "      border-radius: 50%;\n",
              "      cursor: pointer;\n",
              "      display: none;\n",
              "      fill: #1967D2;\n",
              "      height: 32px;\n",
              "      padding: 0 0 0 0;\n",
              "      width: 32px;\n",
              "    }\n",
              "\n",
              "    .colab-df-convert:hover {\n",
              "      background-color: #E2EBFA;\n",
              "      box-shadow: 0px 1px 2px rgba(60, 64, 67, 0.3), 0px 1px 3px 1px rgba(60, 64, 67, 0.15);\n",
              "      fill: #174EA6;\n",
              "    }\n",
              "\n",
              "    [theme=dark] .colab-df-convert {\n",
              "      background-color: #3B4455;\n",
              "      fill: #D2E3FC;\n",
              "    }\n",
              "\n",
              "    [theme=dark] .colab-df-convert:hover {\n",
              "      background-color: #434B5C;\n",
              "      box-shadow: 0px 1px 3px 1px rgba(0, 0, 0, 0.15);\n",
              "      filter: drop-shadow(0px 1px 2px rgba(0, 0, 0, 0.3));\n",
              "      fill: #FFFFFF;\n",
              "    }\n",
              "  </style>\n",
              "\n",
              "      <script>\n",
              "        const buttonEl =\n",
              "          document.querySelector('#df-1a8bb6a4-6a28-47a0-b98d-191a08a39193 button.colab-df-convert');\n",
              "        buttonEl.style.display =\n",
              "          google.colab.kernel.accessAllowed ? 'block' : 'none';\n",
              "\n",
              "        async function convertToInteractive(key) {\n",
              "          const element = document.querySelector('#df-1a8bb6a4-6a28-47a0-b98d-191a08a39193');\n",
              "          const dataTable =\n",
              "            await google.colab.kernel.invokeFunction('convertToInteractive',\n",
              "                                                     [key], {});\n",
              "          if (!dataTable) return;\n",
              "\n",
              "          const docLinkHtml = 'Like what you see? Visit the ' +\n",
              "            '<a target=\"_blank\" href=https://colab.research.google.com/notebooks/data_table.ipynb>data table notebook</a>'\n",
              "            + ' to learn more about interactive tables.';\n",
              "          element.innerHTML = '';\n",
              "          dataTable['output_type'] = 'display_data';\n",
              "          await google.colab.output.renderOutput(dataTable, element);\n",
              "          const docLink = document.createElement('div');\n",
              "          docLink.innerHTML = docLinkHtml;\n",
              "          element.appendChild(docLink);\n",
              "        }\n",
              "      </script>\n",
              "    </div>\n",
              "  </div>\n",
              "  "
            ]
          },
          "metadata": {},
          "execution_count": 9
        }
      ],
      "source": [
        "# Read the labels.csv file and checking shape and records\n",
        "\n",
        "labels_all = pd.read_csv(\"dog_dataset/labels.csv\")\n",
        "print(labels_all.shape)\n",
        "labels_all.head()"
      ]
    },
    {
      "cell_type": "code",
      "execution_count": 10,
      "metadata": {
        "id": "KdIaz1PWhUpk",
        "colab": {
          "base_uri": "https://localhost:8080/"
        },
        "outputId": "c5855a63-4985-47b7-a965-f16401c6685c"
      },
      "outputs": [
        {
          "output_type": "execute_result",
          "data": {
            "text/plain": [
              "scottish_deerhound      126\n",
              "maltese_dog             117\n",
              "afghan_hound            116\n",
              "entlebucher             115\n",
              "bernese_mountain_dog    114\n",
              "Name: breed, dtype: int64"
            ]
          },
          "metadata": {},
          "execution_count": 10
        }
      ],
      "source": [
        "# Visualize the number of each breeds\n",
        "breeds_all = labels_all[\"breed\"]\n",
        "breed_counts = breeds_all.value_counts()\n",
        "breed_counts.head()"
      ]
    },
    {
      "cell_type": "code",
      "execution_count": 11,
      "metadata": {
        "id": "iK_o3L7UmXqF",
        "colab": {
          "base_uri": "https://localhost:8080/",
          "height": 206
        },
        "outputId": "f1158966-2710-405e-e873-a0dcd5348428"
      },
      "outputs": [
        {
          "output_type": "execute_result",
          "data": {
            "text/plain": [
              "   index                                id                 breed\n",
              "0      9  0042188c895a2f14ef64a918ed9c7b64    scottish_deerhound\n",
              "1     12  00693b8bc2470375cc744a6391d397ec           maltese_dog\n",
              "2     79  01e787576c003930f96c966f9c3e1d44    scottish_deerhound\n",
              "3     90  022b34fd8734b39995a9f38a4f3e7b6b           maltese_dog\n",
              "4    118  02d54f0dfb40038765e838459ae8c956  bernese_mountain_dog"
            ],
            "text/html": [
              "\n",
              "  <div id=\"df-189bdc69-274e-452e-90f5-b12049c5cb18\">\n",
              "    <div class=\"colab-df-container\">\n",
              "      <div>\n",
              "<style scoped>\n",
              "    .dataframe tbody tr th:only-of-type {\n",
              "        vertical-align: middle;\n",
              "    }\n",
              "\n",
              "    .dataframe tbody tr th {\n",
              "        vertical-align: top;\n",
              "    }\n",
              "\n",
              "    .dataframe thead th {\n",
              "        text-align: right;\n",
              "    }\n",
              "</style>\n",
              "<table border=\"1\" class=\"dataframe\">\n",
              "  <thead>\n",
              "    <tr style=\"text-align: right;\">\n",
              "      <th></th>\n",
              "      <th>index</th>\n",
              "      <th>id</th>\n",
              "      <th>breed</th>\n",
              "    </tr>\n",
              "  </thead>\n",
              "  <tbody>\n",
              "    <tr>\n",
              "      <th>0</th>\n",
              "      <td>9</td>\n",
              "      <td>0042188c895a2f14ef64a918ed9c7b64</td>\n",
              "      <td>scottish_deerhound</td>\n",
              "    </tr>\n",
              "    <tr>\n",
              "      <th>1</th>\n",
              "      <td>12</td>\n",
              "      <td>00693b8bc2470375cc744a6391d397ec</td>\n",
              "      <td>maltese_dog</td>\n",
              "    </tr>\n",
              "    <tr>\n",
              "      <th>2</th>\n",
              "      <td>79</td>\n",
              "      <td>01e787576c003930f96c966f9c3e1d44</td>\n",
              "      <td>scottish_deerhound</td>\n",
              "    </tr>\n",
              "    <tr>\n",
              "      <th>3</th>\n",
              "      <td>90</td>\n",
              "      <td>022b34fd8734b39995a9f38a4f3e7b6b</td>\n",
              "      <td>maltese_dog</td>\n",
              "    </tr>\n",
              "    <tr>\n",
              "      <th>4</th>\n",
              "      <td>118</td>\n",
              "      <td>02d54f0dfb40038765e838459ae8c956</td>\n",
              "      <td>bernese_mountain_dog</td>\n",
              "    </tr>\n",
              "  </tbody>\n",
              "</table>\n",
              "</div>\n",
              "      <button class=\"colab-df-convert\" onclick=\"convertToInteractive('df-189bdc69-274e-452e-90f5-b12049c5cb18')\"\n",
              "              title=\"Convert this dataframe to an interactive table.\"\n",
              "              style=\"display:none;\">\n",
              "        \n",
              "  <svg xmlns=\"http://www.w3.org/2000/svg\" height=\"24px\"viewBox=\"0 0 24 24\"\n",
              "       width=\"24px\">\n",
              "    <path d=\"M0 0h24v24H0V0z\" fill=\"none\"/>\n",
              "    <path d=\"M18.56 5.44l.94 2.06.94-2.06 2.06-.94-2.06-.94-.94-2.06-.94 2.06-2.06.94zm-11 1L8.5 8.5l.94-2.06 2.06-.94-2.06-.94L8.5 2.5l-.94 2.06-2.06.94zm10 10l.94 2.06.94-2.06 2.06-.94-2.06-.94-.94-2.06-.94 2.06-2.06.94z\"/><path d=\"M17.41 7.96l-1.37-1.37c-.4-.4-.92-.59-1.43-.59-.52 0-1.04.2-1.43.59L10.3 9.45l-7.72 7.72c-.78.78-.78 2.05 0 2.83L4 21.41c.39.39.9.59 1.41.59.51 0 1.02-.2 1.41-.59l7.78-7.78 2.81-2.81c.8-.78.8-2.07 0-2.86zM5.41 20L4 18.59l7.72-7.72 1.47 1.35L5.41 20z\"/>\n",
              "  </svg>\n",
              "      </button>\n",
              "      \n",
              "  <style>\n",
              "    .colab-df-container {\n",
              "      display:flex;\n",
              "      flex-wrap:wrap;\n",
              "      gap: 12px;\n",
              "    }\n",
              "\n",
              "    .colab-df-convert {\n",
              "      background-color: #E8F0FE;\n",
              "      border: none;\n",
              "      border-radius: 50%;\n",
              "      cursor: pointer;\n",
              "      display: none;\n",
              "      fill: #1967D2;\n",
              "      height: 32px;\n",
              "      padding: 0 0 0 0;\n",
              "      width: 32px;\n",
              "    }\n",
              "\n",
              "    .colab-df-convert:hover {\n",
              "      background-color: #E2EBFA;\n",
              "      box-shadow: 0px 1px 2px rgba(60, 64, 67, 0.3), 0px 1px 3px 1px rgba(60, 64, 67, 0.15);\n",
              "      fill: #174EA6;\n",
              "    }\n",
              "\n",
              "    [theme=dark] .colab-df-convert {\n",
              "      background-color: #3B4455;\n",
              "      fill: #D2E3FC;\n",
              "    }\n",
              "\n",
              "    [theme=dark] .colab-df-convert:hover {\n",
              "      background-color: #434B5C;\n",
              "      box-shadow: 0px 1px 3px 1px rgba(0, 0, 0, 0.15);\n",
              "      filter: drop-shadow(0px 1px 2px rgba(0, 0, 0, 0.3));\n",
              "      fill: #FFFFFF;\n",
              "    }\n",
              "  </style>\n",
              "\n",
              "      <script>\n",
              "        const buttonEl =\n",
              "          document.querySelector('#df-189bdc69-274e-452e-90f5-b12049c5cb18 button.colab-df-convert');\n",
              "        buttonEl.style.display =\n",
              "          google.colab.kernel.accessAllowed ? 'block' : 'none';\n",
              "\n",
              "        async function convertToInteractive(key) {\n",
              "          const element = document.querySelector('#df-189bdc69-274e-452e-90f5-b12049c5cb18');\n",
              "          const dataTable =\n",
              "            await google.colab.kernel.invokeFunction('convertToInteractive',\n",
              "                                                     [key], {});\n",
              "          if (!dataTable) return;\n",
              "\n",
              "          const docLinkHtml = 'Like what you see? Visit the ' +\n",
              "            '<a target=\"_blank\" href=https://colab.research.google.com/notebooks/data_table.ipynb>data table notebook</a>'\n",
              "            + ' to learn more about interactive tables.';\n",
              "          element.innerHTML = '';\n",
              "          dataTable['output_type'] = 'display_data';\n",
              "          await google.colab.output.renderOutput(dataTable, element);\n",
              "          const docLink = document.createElement('div');\n",
              "          docLink.innerHTML = docLinkHtml;\n",
              "          element.appendChild(docLink);\n",
              "        }\n",
              "      </script>\n",
              "    </div>\n",
              "  </div>\n",
              "  "
            ]
          },
          "metadata": {},
          "execution_count": 11
        }
      ],
      "source": [
        "# Selecting first 3 breeds (Limitation due to computation power)\n",
        "\n",
        "CLASS_NAMES = ['scottish_deerhound','maltese_dog','bernese_mountain_dog']\n",
        "labels = labels_all[(labels_all['breed'].isin(CLASS_NAMES))]\n",
        "labels = labels.reset_index()\n",
        "labels.head()"
      ]
    },
    {
      "cell_type": "code",
      "execution_count": 12,
      "metadata": {
        "id": "NW2iDoRgmvF-",
        "colab": {
          "base_uri": "https://localhost:8080/"
        },
        "outputId": "eee3078d-afb5-4d30-d78a-0d25cfd31961"
      },
      "outputs": [
        {
          "output_type": "stream",
          "name": "stderr",
          "text": [
            "100%|██████████| 357/357 [00:02<00:00, 137.13it/s]"
          ]
        },
        {
          "output_type": "stream",
          "name": "stdout",
          "text": [
            "\n",
            "Train Images shape:  (357, 224, 224, 3)  size: 53,738,496\n",
            "One-hot encoded output shapes:  (357, 3)  size: 1,071\n"
          ]
        },
        {
          "output_type": "stream",
          "name": "stderr",
          "text": [
            "\n"
          ]
        }
      ],
      "source": [
        "# Creating numpy matrix with zeros\n",
        "X_data = np.zeros((len(labels), 224, 224, 3), dtype='float32')\n",
        "\n",
        "# One hot encoding\n",
        "\n",
        "Y_data = label_binarize(labels['breed'], classes = CLASS_NAMES)\n",
        "\n",
        "# Reading and converting image to numpy array and normalizing dataset\n",
        "for i in tqdm(range(len(labels))):\n",
        "  img = image.load_img('dog_dataset/train/%s.jpg' % labels['id'][i], target_size = (224, 224))\n",
        "  img = image.img_to_array(img)\n",
        "  x = np.expand_dims(img.copy(), axis = 0)\n",
        "  X_data[i] = x / 255.0\n",
        "\n",
        "# Printing train image and one hot encode shape & size\n",
        "\n",
        "print('\\nTrain Images shape: ', X_data.shape, ' size: {:,}'.format(X_data.size))\n",
        "print('One-hot encoded output shapes: ', Y_data.shape, ' size: {:,}'.format(Y_data.size))"
      ]
    },
    {
      "cell_type": "code",
      "execution_count": 13,
      "metadata": {
        "id": "oXFXF796pABV",
        "colab": {
          "base_uri": "https://localhost:8080/"
        },
        "outputId": "181a65eb-9a58-44ea-81ac-15f7455507d1"
      },
      "outputs": [
        {
          "output_type": "stream",
          "name": "stdout",
          "text": [
            "Model: \"sequential\"\n",
            "_________________________________________________________________\n",
            " Layer (type)                Output Shape              Param #   \n",
            "=================================================================\n",
            " conv2d (Conv2D)             (None, 220, 220, 64)      4864      \n",
            "                                                                 \n",
            " max_pooling2d (MaxPooling2D  (None, 110, 110, 64)     0         \n",
            " )                                                               \n",
            "                                                                 \n",
            " conv2d_1 (Conv2D)           (None, 108, 108, 32)      18464     \n",
            "                                                                 \n",
            " max_pooling2d_1 (MaxPooling  (None, 54, 54, 32)       0         \n",
            " 2D)                                                             \n",
            "                                                                 \n",
            " conv2d_2 (Conv2D)           (None, 48, 48, 16)        25104     \n",
            "                                                                 \n",
            " max_pooling2d_2 (MaxPooling  (None, 24, 24, 16)       0         \n",
            " 2D)                                                             \n",
            "                                                                 \n",
            " conv2d_3 (Conv2D)           (None, 20, 20, 8)         3208      \n",
            "                                                                 \n",
            " max_pooling2d_3 (MaxPooling  (None, 10, 10, 8)        0         \n",
            " 2D)                                                             \n",
            "                                                                 \n",
            " flatten (Flatten)           (None, 800)               0         \n",
            "                                                                 \n",
            " dense (Dense)               (None, 128)               102528    \n",
            "                                                                 \n",
            " dense_1 (Dense)             (None, 64)                8256      \n",
            "                                                                 \n",
            " dense_2 (Dense)             (None, 3)                 195       \n",
            "                                                                 \n",
            "=================================================================\n",
            "Total params: 162,619\n",
            "Trainable params: 162,619\n",
            "Non-trainable params: 0\n",
            "_________________________________________________________________\n"
          ]
        }
      ],
      "source": [
        "# Building the Model\n",
        "\n",
        "model = Sequential()\n",
        "\n",
        "model.add(Conv2D(filters = 64, kernel_size = (5, 5), activation = 'relu', input_shape = (224, 224, 3)))\n",
        "model.add(MaxPool2D(pool_size = (2, 2)))\n",
        "\n",
        "model.add(Conv2D(filters = 32, kernel_size = (3, 3), activation = 'relu', kernel_regularizer = 'l2'))\n",
        "model.add(MaxPool2D(pool_size = (2, 2)))\n",
        "\n",
        "model.add(Conv2D(filters = 16, kernel_size = (7, 7), activation = 'relu', kernel_regularizer = 'l2'))\n",
        "model.add(MaxPool2D(pool_size = (2, 2)))\n",
        "\n",
        "model.add(Conv2D(filters = 8, kernel_size = (5, 5), activation = 'relu', kernel_regularizer = 'l2'))\n",
        "model.add(MaxPool2D(pool_size = (2, 2)))\n",
        "\n",
        "\n",
        "model.add(Flatten())\n",
        "model.add(Dense(128, activation = 'relu', kernel_regularizer = 'l2'))\n",
        "model.add(Dense(64, activation = 'relu', kernel_regularizer = 'l2'))\n",
        "\n",
        "model.add(Dense(len(CLASS_NAMES), activation = 'softmax'))\n",
        "\n",
        "model.compile(loss = 'categorical_crossentropy', optimizer = Adam(0.0001), metrics = ['accuracy'])\n",
        "model.summary()"
      ]
    },
    {
      "cell_type": "code",
      "execution_count": 14,
      "metadata": {
        "id": "dRJz6gLHrcej"
      },
      "outputs": [],
      "source": [
        "# Splitting the data set into training and testing data sets\n",
        "\n",
        "X_train_and_val, X_test, Y_train_and_val, Y_test = train_test_split(X_data, Y_data, test_size = 0.1)\n",
        "\n",
        "# Splitting the training data set into training and validation data sets\n",
        "\n",
        "X_train, X_val, Y_train, Y_val = train_test_split(X_train_and_val, Y_train_and_val, test_size = 0.2)"
      ]
    },
    {
      "cell_type": "code",
      "execution_count": 15,
      "metadata": {
        "id": "2_SPNNKlsa23",
        "colab": {
          "base_uri": "https://localhost:8080/"
        },
        "outputId": "82bbff78-12d0-4c2e-f965-c580c3708b71"
      },
      "outputs": [
        {
          "output_type": "stream",
          "name": "stdout",
          "text": [
            "Epoch 1/100\n",
            "2/2 [==============================] - 59s 20s/step - loss: 4.9049 - accuracy: 0.3516 - val_loss: 4.8806 - val_accuracy: 0.3846\n",
            "Epoch 2/100\n",
            "2/2 [==============================] - 32s 17s/step - loss: 4.8769 - accuracy: 0.3594 - val_loss: 4.8544 - val_accuracy: 0.3846\n",
            "Epoch 3/100\n",
            "2/2 [==============================] - 32s 17s/step - loss: 4.8514 - accuracy: 0.3594 - val_loss: 4.8297 - val_accuracy: 0.4000\n",
            "Epoch 4/100\n",
            "2/2 [==============================] - 34s 17s/step - loss: 4.8260 - accuracy: 0.3633 - val_loss: 4.8042 - val_accuracy: 0.4000\n",
            "Epoch 5/100\n",
            "2/2 [==============================] - 32s 17s/step - loss: 4.8001 - accuracy: 0.3594 - val_loss: 4.7779 - val_accuracy: 0.3846\n",
            "Epoch 6/100\n",
            "2/2 [==============================] - 32s 17s/step - loss: 4.7745 - accuracy: 0.3594 - val_loss: 4.7516 - val_accuracy: 0.3846\n",
            "Epoch 7/100\n",
            "2/2 [==============================] - 32s 17s/step - loss: 4.7492 - accuracy: 0.3594 - val_loss: 4.7263 - val_accuracy: 0.3846\n",
            "Epoch 8/100\n",
            "2/2 [==============================] - 32s 17s/step - loss: 4.7233 - accuracy: 0.3633 - val_loss: 4.7022 - val_accuracy: 0.3846\n",
            "Epoch 9/100\n",
            "2/2 [==============================] - 32s 17s/step - loss: 4.6980 - accuracy: 0.3633 - val_loss: 4.6775 - val_accuracy: 0.3846\n",
            "Epoch 10/100\n",
            "2/2 [==============================] - 32s 17s/step - loss: 4.6724 - accuracy: 0.3711 - val_loss: 4.6521 - val_accuracy: 0.3846\n",
            "Epoch 11/100\n",
            "2/2 [==============================] - 37s 22s/step - loss: 4.6470 - accuracy: 0.3672 - val_loss: 4.6259 - val_accuracy: 0.3846\n",
            "Epoch 12/100\n",
            "2/2 [==============================] - 32s 17s/step - loss: 4.6209 - accuracy: 0.3789 - val_loss: 4.6001 - val_accuracy: 0.3846\n",
            "Epoch 13/100\n",
            "2/2 [==============================] - 32s 17s/step - loss: 4.5945 - accuracy: 0.3906 - val_loss: 4.5741 - val_accuracy: 0.4000\n",
            "Epoch 14/100\n",
            "2/2 [==============================] - 32s 17s/step - loss: 4.5685 - accuracy: 0.3867 - val_loss: 4.5475 - val_accuracy: 0.4462\n",
            "Epoch 15/100\n",
            "2/2 [==============================] - 38s 18s/step - loss: 4.5412 - accuracy: 0.4141 - val_loss: 4.5215 - val_accuracy: 0.4769\n",
            "Epoch 16/100\n",
            "2/2 [==============================] - 35s 20s/step - loss: 4.5146 - accuracy: 0.4336 - val_loss: 4.4946 - val_accuracy: 0.4615\n",
            "Epoch 17/100\n",
            "2/2 [==============================] - 32s 17s/step - loss: 4.4857 - accuracy: 0.4727 - val_loss: 4.4673 - val_accuracy: 0.4615\n",
            "Epoch 18/100\n",
            "2/2 [==============================] - 32s 17s/step - loss: 4.4567 - accuracy: 0.4844 - val_loss: 4.4400 - val_accuracy: 0.4923\n",
            "Epoch 19/100\n",
            "2/2 [==============================] - 33s 17s/step - loss: 4.4277 - accuracy: 0.5000 - val_loss: 4.4123 - val_accuracy: 0.5385\n",
            "Epoch 20/100\n",
            "2/2 [==============================] - 32s 17s/step - loss: 4.3970 - accuracy: 0.5273 - val_loss: 4.3783 - val_accuracy: 0.5385\n",
            "Epoch 21/100\n",
            "2/2 [==============================] - 32s 17s/step - loss: 4.3642 - accuracy: 0.5469 - val_loss: 4.3447 - val_accuracy: 0.5077\n",
            "Epoch 22/100\n",
            "2/2 [==============================] - 32s 17s/step - loss: 4.3317 - accuracy: 0.5430 - val_loss: 4.3111 - val_accuracy: 0.5385\n",
            "Epoch 23/100\n",
            "2/2 [==============================] - 32s 17s/step - loss: 4.2960 - accuracy: 0.5664 - val_loss: 4.2814 - val_accuracy: 0.5385\n",
            "Epoch 24/100\n",
            "2/2 [==============================] - 32s 17s/step - loss: 4.2616 - accuracy: 0.5859 - val_loss: 4.2444 - val_accuracy: 0.5538\n",
            "Epoch 25/100\n",
            "2/2 [==============================] - 32s 17s/step - loss: 4.2240 - accuracy: 0.6016 - val_loss: 4.2013 - val_accuracy: 0.5385\n",
            "Epoch 26/100\n",
            "2/2 [==============================] - 32s 17s/step - loss: 4.1892 - accuracy: 0.5977 - val_loss: 4.1634 - val_accuracy: 0.5846\n",
            "Epoch 27/100\n",
            "2/2 [==============================] - 32s 17s/step - loss: 4.1444 - accuracy: 0.6172 - val_loss: 4.1345 - val_accuracy: 0.5692\n",
            "Epoch 28/100\n",
            "2/2 [==============================] - 32s 17s/step - loss: 4.1061 - accuracy: 0.6289 - val_loss: 4.0885 - val_accuracy: 0.6154\n",
            "Epoch 29/100\n",
            "2/2 [==============================] - 32s 17s/step - loss: 4.0664 - accuracy: 0.6328 - val_loss: 4.0495 - val_accuracy: 0.6000\n",
            "Epoch 30/100\n",
            "2/2 [==============================] - 32s 17s/step - loss: 4.0250 - accuracy: 0.6523 - val_loss: 4.0272 - val_accuracy: 0.6308\n",
            "Epoch 31/100\n",
            "2/2 [==============================] - 32s 17s/step - loss: 3.9899 - accuracy: 0.6445 - val_loss: 3.9822 - val_accuracy: 0.6308\n",
            "Epoch 32/100\n",
            "2/2 [==============================] - 32s 17s/step - loss: 3.9477 - accuracy: 0.6523 - val_loss: 3.9470 - val_accuracy: 0.6462\n",
            "Epoch 33/100\n",
            "2/2 [==============================] - 32s 17s/step - loss: 3.9068 - accuracy: 0.6602 - val_loss: 3.9090 - val_accuracy: 0.6615\n",
            "Epoch 34/100\n",
            "2/2 [==============================] - 39s 17s/step - loss: 3.8739 - accuracy: 0.6719 - val_loss: 3.8899 - val_accuracy: 0.6462\n",
            "Epoch 35/100\n",
            "2/2 [==============================] - 32s 17s/step - loss: 3.8401 - accuracy: 0.6797 - val_loss: 3.8474 - val_accuracy: 0.6923\n",
            "Epoch 36/100\n",
            "2/2 [==============================] - 32s 17s/step - loss: 3.7895 - accuracy: 0.7070 - val_loss: 3.8164 - val_accuracy: 0.7385\n",
            "Epoch 37/100\n",
            "2/2 [==============================] - 32s 17s/step - loss: 3.7620 - accuracy: 0.7031 - val_loss: 3.8143 - val_accuracy: 0.6462\n",
            "Epoch 38/100\n",
            "2/2 [==============================] - 32s 17s/step - loss: 3.7247 - accuracy: 0.7070 - val_loss: 3.7644 - val_accuracy: 0.7231\n",
            "Epoch 39/100\n",
            "2/2 [==============================] - 32s 17s/step - loss: 3.6890 - accuracy: 0.7266 - val_loss: 3.7518 - val_accuracy: 0.7231\n",
            "Epoch 40/100\n",
            "2/2 [==============================] - 32s 17s/step - loss: 3.6690 - accuracy: 0.7148 - val_loss: 3.7238 - val_accuracy: 0.7231\n",
            "Epoch 41/100\n",
            "2/2 [==============================] - 32s 17s/step - loss: 3.6250 - accuracy: 0.7461 - val_loss: 3.7090 - val_accuracy: 0.7077\n",
            "Epoch 42/100\n",
            "2/2 [==============================] - 32s 17s/step - loss: 3.5879 - accuracy: 0.7773 - val_loss: 3.6748 - val_accuracy: 0.7385\n",
            "Epoch 43/100\n",
            "2/2 [==============================] - 32s 17s/step - loss: 3.5652 - accuracy: 0.7656 - val_loss: 3.6757 - val_accuracy: 0.7077\n",
            "Epoch 44/100\n",
            "2/2 [==============================] - 32s 17s/step - loss: 3.5366 - accuracy: 0.7695 - val_loss: 3.6372 - val_accuracy: 0.7385\n",
            "Epoch 45/100\n",
            "2/2 [==============================] - 32s 17s/step - loss: 3.5075 - accuracy: 0.7695 - val_loss: 3.6224 - val_accuracy: 0.7385\n",
            "Epoch 46/100\n",
            "2/2 [==============================] - 32s 17s/step - loss: 3.4806 - accuracy: 0.7891 - val_loss: 3.6125 - val_accuracy: 0.7385\n",
            "Epoch 47/100\n",
            "2/2 [==============================] - 32s 17s/step - loss: 3.4602 - accuracy: 0.8008 - val_loss: 3.5920 - val_accuracy: 0.7231\n",
            "Epoch 48/100\n",
            "2/2 [==============================] - 33s 17s/step - loss: 3.4276 - accuracy: 0.7969 - val_loss: 3.5919 - val_accuracy: 0.7077\n",
            "Epoch 49/100\n",
            "2/2 [==============================] - 32s 17s/step - loss: 3.4032 - accuracy: 0.8047 - val_loss: 3.5700 - val_accuracy: 0.7231\n",
            "Epoch 50/100\n",
            "2/2 [==============================] - 32s 17s/step - loss: 3.3838 - accuracy: 0.8203 - val_loss: 3.5732 - val_accuracy: 0.7385\n",
            "Epoch 51/100\n",
            "2/2 [==============================] - 32s 17s/step - loss: 3.3699 - accuracy: 0.8359 - val_loss: 3.5436 - val_accuracy: 0.7385\n",
            "Epoch 52/100\n",
            "2/2 [==============================] - 38s 23s/step - loss: 3.3422 - accuracy: 0.8359 - val_loss: 3.5337 - val_accuracy: 0.7231\n",
            "Epoch 53/100\n",
            "2/2 [==============================] - 33s 17s/step - loss: 3.3139 - accuracy: 0.8281 - val_loss: 3.5266 - val_accuracy: 0.7231\n",
            "Epoch 54/100\n",
            "2/2 [==============================] - 32s 17s/step - loss: 3.2911 - accuracy: 0.8477 - val_loss: 3.5073 - val_accuracy: 0.7692\n",
            "Epoch 55/100\n",
            "2/2 [==============================] - 32s 17s/step - loss: 3.2887 - accuracy: 0.8438 - val_loss: 3.5034 - val_accuracy: 0.7385\n",
            "Epoch 56/100\n",
            "2/2 [==============================] - 32s 17s/step - loss: 3.2713 - accuracy: 0.8398 - val_loss: 3.5014 - val_accuracy: 0.7385\n",
            "Epoch 57/100\n",
            "2/2 [==============================] - 32s 17s/step - loss: 3.2705 - accuracy: 0.8125 - val_loss: 3.4714 - val_accuracy: 0.7231\n",
            "Epoch 58/100\n",
            "2/2 [==============================] - 32s 17s/step - loss: 3.2397 - accuracy: 0.8477 - val_loss: 3.4815 - val_accuracy: 0.7385\n",
            "Epoch 59/100\n",
            "2/2 [==============================] - 32s 17s/step - loss: 3.2183 - accuracy: 0.8594 - val_loss: 3.4586 - val_accuracy: 0.8154\n",
            "Epoch 60/100\n",
            "2/2 [==============================] - 32s 17s/step - loss: 3.1921 - accuracy: 0.8711 - val_loss: 3.4618 - val_accuracy: 0.7231\n",
            "Epoch 61/100\n",
            "2/2 [==============================] - 32s 17s/step - loss: 3.1878 - accuracy: 0.8320 - val_loss: 3.4423 - val_accuracy: 0.7231\n",
            "Epoch 62/100\n",
            "2/2 [==============================] - 32s 17s/step - loss: 3.1497 - accuracy: 0.8594 - val_loss: 3.4151 - val_accuracy: 0.8000\n",
            "Epoch 63/100\n",
            "2/2 [==============================] - 36s 17s/step - loss: 3.1355 - accuracy: 0.8867 - val_loss: 3.4218 - val_accuracy: 0.7231\n",
            "Epoch 64/100\n",
            "2/2 [==============================] - 32s 17s/step - loss: 3.1291 - accuracy: 0.8711 - val_loss: 3.3901 - val_accuracy: 0.7538\n",
            "Epoch 65/100\n",
            "2/2 [==============================] - 32s 17s/step - loss: 3.1026 - accuracy: 0.8789 - val_loss: 3.4070 - val_accuracy: 0.7692\n",
            "Epoch 66/100\n",
            "2/2 [==============================] - 32s 17s/step - loss: 3.0918 - accuracy: 0.8633 - val_loss: 3.3934 - val_accuracy: 0.7385\n",
            "Epoch 67/100\n",
            "2/2 [==============================] - 32s 17s/step - loss: 3.0657 - accuracy: 0.8789 - val_loss: 3.3570 - val_accuracy: 0.7846\n",
            "Epoch 68/100\n",
            "2/2 [==============================] - 32s 17s/step - loss: 3.0721 - accuracy: 0.8945 - val_loss: 3.3460 - val_accuracy: 0.7385\n",
            "Epoch 69/100\n",
            "2/2 [==============================] - 32s 17s/step - loss: 3.0390 - accuracy: 0.8750 - val_loss: 3.3764 - val_accuracy: 0.7385\n",
            "Epoch 70/100\n",
            "2/2 [==============================] - 32s 17s/step - loss: 3.0246 - accuracy: 0.8906 - val_loss: 3.3474 - val_accuracy: 0.7692\n",
            "Epoch 71/100\n",
            "2/2 [==============================] - 43s 19s/step - loss: 3.0149 - accuracy: 0.9062 - val_loss: 3.3114 - val_accuracy: 0.7538\n",
            "Epoch 72/100\n",
            "2/2 [==============================] - 33s 18s/step - loss: 2.9819 - accuracy: 0.8945 - val_loss: 3.3267 - val_accuracy: 0.7538\n",
            "Epoch 73/100\n",
            "2/2 [==============================] - 33s 17s/step - loss: 2.9663 - accuracy: 0.8984 - val_loss: 3.3087 - val_accuracy: 0.7846\n",
            "Epoch 74/100\n",
            "2/2 [==============================] - 33s 17s/step - loss: 2.9743 - accuracy: 0.8984 - val_loss: 3.2895 - val_accuracy: 0.7538\n",
            "Epoch 75/100\n",
            "2/2 [==============================] - 33s 17s/step - loss: 2.9409 - accuracy: 0.8984 - val_loss: 3.3213 - val_accuracy: 0.7846\n",
            "Epoch 76/100\n",
            "2/2 [==============================] - 33s 17s/step - loss: 2.9346 - accuracy: 0.8828 - val_loss: 3.2812 - val_accuracy: 0.7846\n",
            "Epoch 77/100\n",
            "2/2 [==============================] - 33s 17s/step - loss: 2.9193 - accuracy: 0.9102 - val_loss: 3.2620 - val_accuracy: 0.7385\n",
            "Epoch 78/100\n",
            "2/2 [==============================] - 33s 17s/step - loss: 2.8903 - accuracy: 0.8984 - val_loss: 3.2731 - val_accuracy: 0.7692\n",
            "Epoch 79/100\n",
            "2/2 [==============================] - 33s 17s/step - loss: 2.8808 - accuracy: 0.9102 - val_loss: 3.2426 - val_accuracy: 0.7846\n",
            "Epoch 80/100\n",
            "2/2 [==============================] - 33s 17s/step - loss: 2.8618 - accuracy: 0.9062 - val_loss: 3.2373 - val_accuracy: 0.7692\n",
            "Epoch 81/100\n",
            "2/2 [==============================] - 32s 17s/step - loss: 2.8494 - accuracy: 0.9062 - val_loss: 3.2415 - val_accuracy: 0.7385\n",
            "Epoch 82/100\n",
            "2/2 [==============================] - 32s 17s/step - loss: 2.8340 - accuracy: 0.9141 - val_loss: 3.2107 - val_accuracy: 0.7692\n",
            "Epoch 83/100\n",
            "2/2 [==============================] - 33s 17s/step - loss: 2.8174 - accuracy: 0.9141 - val_loss: 3.2024 - val_accuracy: 0.7538\n",
            "Epoch 84/100\n",
            "2/2 [==============================] - 32s 17s/step - loss: 2.7972 - accuracy: 0.9258 - val_loss: 3.2099 - val_accuracy: 0.7385\n",
            "Epoch 85/100\n",
            "2/2 [==============================] - 33s 17s/step - loss: 2.7879 - accuracy: 0.9297 - val_loss: 3.2056 - val_accuracy: 0.7538\n",
            "Epoch 86/100\n",
            "2/2 [==============================] - 32s 17s/step - loss: 2.7687 - accuracy: 0.9375 - val_loss: 3.1855 - val_accuracy: 0.7538\n",
            "Epoch 87/100\n",
            "2/2 [==============================] - 33s 17s/step - loss: 2.7561 - accuracy: 0.9297 - val_loss: 3.1700 - val_accuracy: 0.7692\n",
            "Epoch 88/100\n",
            "2/2 [==============================] - 33s 17s/step - loss: 2.7440 - accuracy: 0.9180 - val_loss: 3.1726 - val_accuracy: 0.7538\n",
            "Epoch 89/100\n",
            "2/2 [==============================] - 39s 24s/step - loss: 2.7389 - accuracy: 0.9219 - val_loss: 3.1779 - val_accuracy: 0.7385\n",
            "Epoch 90/100\n",
            "2/2 [==============================] - 33s 17s/step - loss: 2.7455 - accuracy: 0.9219 - val_loss: 3.1629 - val_accuracy: 0.7692\n",
            "Epoch 91/100\n",
            "2/2 [==============================] - 33s 17s/step - loss: 2.7076 - accuracy: 0.9375 - val_loss: 3.1536 - val_accuracy: 0.7385\n",
            "Epoch 92/100\n",
            "2/2 [==============================] - 33s 17s/step - loss: 2.6960 - accuracy: 0.9258 - val_loss: 3.1417 - val_accuracy: 0.7846\n",
            "Epoch 93/100\n",
            "2/2 [==============================] - 33s 17s/step - loss: 2.6816 - accuracy: 0.9336 - val_loss: 3.1439 - val_accuracy: 0.7692\n",
            "Epoch 94/100\n",
            "2/2 [==============================] - 33s 17s/step - loss: 2.6647 - accuracy: 0.9375 - val_loss: 3.1528 - val_accuracy: 0.7385\n",
            "Epoch 95/100\n",
            "2/2 [==============================] - 33s 17s/step - loss: 2.6559 - accuracy: 0.9453 - val_loss: 3.1227 - val_accuracy: 0.7692\n",
            "Epoch 96/100\n",
            "2/2 [==============================] - 32s 17s/step - loss: 2.6358 - accuracy: 0.9453 - val_loss: 3.1058 - val_accuracy: 0.7538\n",
            "Epoch 97/100\n",
            "2/2 [==============================] - 33s 17s/step - loss: 2.6234 - accuracy: 0.9531 - val_loss: 3.1105 - val_accuracy: 0.7385\n",
            "Epoch 98/100\n",
            "2/2 [==============================] - 33s 17s/step - loss: 2.6095 - accuracy: 0.9492 - val_loss: 3.1205 - val_accuracy: 0.7385\n",
            "Epoch 99/100\n",
            "2/2 [==============================] - 32s 17s/step - loss: 2.5989 - accuracy: 0.9492 - val_loss: 3.0990 - val_accuracy: 0.7385\n",
            "Epoch 100/100\n",
            "2/2 [==============================] - 32s 17s/step - loss: 2.5828 - accuracy: 0.9570 - val_loss: 3.0822 - val_accuracy: 0.7385\n"
          ]
        }
      ],
      "source": [
        "# Training the model\n",
        "\n",
        "epochs = 100\n",
        "batch_size = 128\n",
        "\n",
        "history = model.fit(X_train, Y_train, batch_size = batch_size, epochs = epochs, validation_data = (X_val, Y_val))"
      ]
    },
    {
      "cell_type": "code",
      "execution_count": 16,
      "metadata": {
        "id": "zd1_3MJSv9QX",
        "colab": {
          "base_uri": "https://localhost:8080/",
          "height": 350
        },
        "outputId": "3f541a6a-5f45-41b6-9bd0-b74ac59db4b5"
      },
      "outputs": [
        {
          "output_type": "display_data",
          "data": {
            "text/plain": [
              "<Figure size 864x360 with 1 Axes>"
            ],
            "image/png": "[encoded data removed]"
          },
          "metadata": {
            "needs_background": "light"
          }
        }
      ],
      "source": [
        "# Plot the training history\n",
        "\n",
        "plt.figure(figsize = (12, 5))\n",
        "plt.plot(history.history['accuracy'], color = 'r')\n",
        "plt.plot(history.history['val_accuracy'], color = 'b')\n",
        "plt.title('Model Accuracy')\n",
        "plt.ylabel('Accuracy')\n",
        "plt.xlabel('Epochs')\n",
        "plt.legend(['train', 'val'])\n",
        "\n",
        "plt.show()"
      ]
    },
    {
      "cell_type": "code",
      "execution_count": 19,
      "metadata": {
        "id": "js4vLEKYwi39",
        "colab": {
          "base_uri": "https://localhost:8080/"
        },
        "outputId": "ab2973ba-096e-4734-9098-9a5b8fd4208f"
      },
      "outputs": [
        {
          "output_type": "stream",
          "name": "stdout",
          "text": [
            "2/2 [==============================] - 1s 129ms/step - loss: 2.7851 - accuracy: 0.9167\n",
            "Accuracy over the test set: \n",
            "  91.67 %\n"
          ]
        }
      ],
      "source": [
        "# Predict function to make predictions using this model also finding out the accuracy on the test set.\n",
        "\n",
        "Y_pred = model.predict(X_test)\n",
        "score = model.evaluate(X_test, Y_test)\n",
        "print('Accuracy over the test set: \\n ', round((score[1] * 100), 2), '%')"
      ]
    },
    {
      "cell_type": "code",
      "execution_count": 20,
      "metadata": {
        "id": "N1FBVHpxw6vZ",
        "colab": {
          "base_uri": "https://localhost:8080/",
          "height": 306
        },
        "outputId": "ec5ddfe3-d6fe-4021-8e89-bc0fe6b67b5b"
      },
      "outputs": [
        {
          "output_type": "display_data",
          "data": {
            "text/plain": [
              "<Figure size 432x288 with 1 Axes>"
            ],
            "image/png": "[encoded data removed]"
          },
          "metadata": {
            "needs_background": "light"
          }
        },
        {
          "output_type": "stream",
          "name": "stdout",
          "text": [
            "Originally :  maltese_dog\n",
            "Predicted :  maltese_dog\n"
          ]
        }
      ],
      "source": [
        "# Plotting image to compare\n",
        "plt.imshow(X_test[1, :, :, :])\n",
        "plt.show()\n",
        "\n",
        "# Finding max value from predition list and comaparing original value vs predicted\n",
        "print(\"Originally : \", labels['breed'][np.argmax(Y_test[1])])\n",
        "print(\"Predicted : \", labels['breed'][np.argmax(Y_pred[1])])"
      ]
    },
    {
      "cell_type": "code",
      "source": [],
      "metadata": {
        "id": "luJEYHf1sUOc"
      },
      "execution_count": null,
      "outputs": []
    }
  ],
  "metadata": {
    "colab": {
      "collapsed_sections": [],
      "provenance": [],
      "authorship_tag": "ABX9TyN9qPR3T0WjM4HHK4J8/f77",
      "include_colab_link": true
    },
    "kernelspec": {
      "display_name": "Python 3",
      "name": "python3"
    },
    "language_info": {
      "name": "python"
    }
  },
  "nbformat": 4,
  "nbformat_minor": 0
}